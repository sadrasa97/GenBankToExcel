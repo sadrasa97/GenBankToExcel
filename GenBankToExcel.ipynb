{
 "cells": [
  {
   "cell_type": "code",
   "execution_count": 3,
   "metadata": {},
   "outputs": [
    {
     "name": "stdout",
     "output_type": "stream",
     "text": [
      "Dataset saved to sequence.xlsx\n"
     ]
    }
   ],
   "source": [
    "from Bio import SeqIO\n",
    "import pandas as pd\n",
    "import os\n",
    "\n",
    "def gb_to_excel(input_folder, output_file, version_value=\"MF356498\"):\n",
    "    \"\"\"\n",
    "    Convert GenBank files to an Excel dataset with sequences, adding a VERSION column.\n",
    "    \n",
    "    Parameters:\n",
    "    input_folder (str): Path to the folder containing .gb files.\n",
    "    output_file (str): Path to save the resulting Excel file.\n",
    "    version_value (str): The value to set for the VERSION column (default: \"MF356498\").\n",
    "    \"\"\"\n",
    "    data = []\n",
    "\n",
    "    for file in os.listdir(input_folder):\n",
    "        if file.endswith(\".gb\"):\n",
    "            filepath = os.path.join(input_folder, file)\n",
    "            \n",
    "            for record in SeqIO.parse(filepath, \"genbank\"):\n",
    "                seq_id = record.id\n",
    "                description = record.description\n",
    "                sequence = str(record.seq)\n",
    "                data.append({\n",
    "                    \"ID\": seq_id,\n",
    "                    \"VERSION\": version_value,\n",
    "                    \"Description\": description,\n",
    "                    \"Sequence\": sequence\n",
    "                })\n",
    "    \n",
    "    df = pd.DataFrame(data)\n",
    "\n",
    "    df.set_index(\"ID\", inplace=True)\n",
    "\n",
    "    df.to_excel(output_file)\n",
    "    print(f\"Dataset saved to {output_file}\")\n",
    "\n",
    "input_folder = r\"C:\\Users\\RayanSabz\\Downloads\\pave.niaid.nih.govGenomes\" \n",
    "output_file = \"sequence.xlsx\"  \n",
    "gb_to_excel(input_folder, output_file)\n"
   ]
  },
  {
   "cell_type": "code",
   "execution_count": null,
   "metadata": {},
   "outputs": [],
   "source": []
  }
 ],
 "metadata": {
  "kernelspec": {
   "display_name": "Python 3",
   "language": "python",
   "name": "python3"
  },
  "language_info": {
   "codemirror_mode": {
    "name": "ipython",
    "version": 3
   },
   "file_extension": ".py",
   "mimetype": "text/x-python",
   "name": "python",
   "nbconvert_exporter": "python",
   "pygments_lexer": "ipython3",
   "version": "3.10.7"
  }
 },
 "nbformat": 4,
 "nbformat_minor": 2
}
